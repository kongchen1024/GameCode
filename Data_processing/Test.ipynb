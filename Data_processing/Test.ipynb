{
 "cells": [
  {
   "cell_type": "markdown",
   "metadata": {
    "pycharm": {
     "name": "#%% md\n"
    }
   },
   "source": [
    "# 测试Data_processing包"
   ]
  },
  {
   "cell_type": "markdown",
   "metadata": {
    "pycharm": {
     "name": "#%% md\n"
    }
   },
   "source": [
    "## 创建实验数据集 data"
   ]
  },
  {
   "cell_type": "code",
   "execution_count": 1,
   "metadata": {
    "pycharm": {
     "name": "#%%\n"
    }
   },
   "outputs": [],
   "source": [
    "import pandas as pd\n",
    "data=pd.DataFrame({'A':[1,2,3,4,5],'B':[5,6,7,None,9],'C':[10,11,None,None,13]})\n",
    "data=data.astype('float64')"
   ]
  },
  {
   "cell_type": "markdown",
   "metadata": {
    "pycharm": {
     "name": "#%% md\n"
    }
   },
   "source": [
    "## 实验 data_filling 函数"
   ]
  },
  {
   "cell_type": "code",
   "execution_count": 2,
   "metadata": {
    "pycharm": {
     "name": "#%%\n"
    }
   },
   "outputs": [
    {
     "data": {
      "text/html": [
       "<div>\n",
       "<style scoped>\n",
       "    .dataframe tbody tr th:only-of-type {\n",
       "        vertical-align: middle;\n",
       "    }\n",
       "\n",
       "    .dataframe tbody tr th {\n",
       "        vertical-align: top;\n",
       "    }\n",
       "\n",
       "    .dataframe thead th {\n",
       "        text-align: right;\n",
       "    }\n",
       "</style>\n",
       "<table border=\"1\" class=\"dataframe\">\n",
       "  <thead>\n",
       "    <tr style=\"text-align: right;\">\n",
       "      <th></th>\n",
       "      <th>A</th>\n",
       "      <th>B</th>\n",
       "      <th>C</th>\n",
       "    </tr>\n",
       "  </thead>\n",
       "  <tbody>\n",
       "    <tr>\n",
       "      <th>0</th>\n",
       "      <td>1.0</td>\n",
       "      <td>5.0</td>\n",
       "      <td>10.0</td>\n",
       "    </tr>\n",
       "    <tr>\n",
       "      <th>1</th>\n",
       "      <td>2.0</td>\n",
       "      <td>6.0</td>\n",
       "      <td>11.0</td>\n",
       "    </tr>\n",
       "    <tr>\n",
       "      <th>2</th>\n",
       "      <td>3.0</td>\n",
       "      <td>7.0</td>\n",
       "      <td>5.0</td>\n",
       "    </tr>\n",
       "    <tr>\n",
       "      <th>3</th>\n",
       "      <td>4.0</td>\n",
       "      <td>5.0</td>\n",
       "      <td>5.0</td>\n",
       "    </tr>\n",
       "    <tr>\n",
       "      <th>4</th>\n",
       "      <td>5.0</td>\n",
       "      <td>9.0</td>\n",
       "      <td>13.0</td>\n",
       "    </tr>\n",
       "  </tbody>\n",
       "</table>\n",
       "</div>"
      ],
      "text/plain": [
       "     A    B     C\n",
       "0  1.0  5.0  10.0\n",
       "1  2.0  6.0  11.0\n",
       "2  3.0  7.0   5.0\n",
       "3  4.0  5.0   5.0\n",
       "4  5.0  9.0  13.0"
      ]
     },
     "execution_count": 2,
     "metadata": {},
     "output_type": "execute_result"
    }
   ],
   "source": [
    "from data_filling import fill_missing_with_median,\\\n",
    "    fill_missing_with_mode,fill_missing_with_mean,\\\n",
    "    fill_missing_with_negative_three_std_deviation,\\\n",
    "    fill_missing_with_positive_three_std_deviation,\\\n",
    "    fill_missing_with_specified_rule\n",
    "# 中位数填充\n",
    "data1=fill_missing_with_median(data,columns_to_fill=data.columns)\n",
    "data1\n",
    "# 众数填充\n",
    "data2=fill_missing_with_mode(data,columns_to_fill=data.columns)\n",
    "data2\n",
    "# 均值填充\n",
    "data3=fill_missing_with_mean(data,columns_to_fill=data.columns)\n",
    "data3\n",
    "# 三标准值填充\n",
    "data4=fill_missing_with_positive_three_std_deviation(data,columns_to_fill=data.columns)\n",
    "data4\n",
    "# 负三标准值填充\n",
    "data5=fill_missing_with_negative_three_std_deviation(data,columns_to_fill=data.columns)\n",
    "data5\n",
    "# 特定规则填充\n",
    "    #使用特定值填充\n",
    "data6=fill_missing_with_specified_rule(data,columns_to_fill=data.columns,choice=1,num=5)\n",
    "data6"
   ]
  },
  {
   "cell_type": "markdown",
   "metadata": {
    "pycharm": {
     "name": "#%% md\n"
    }
   },
   "source": [
    "## 实验 data_standardization 函数"
   ]
  },
  {
   "cell_type": "code",
   "execution_count": 3,
   "metadata": {
    "pycharm": {
     "name": "#%%\n"
    }
   },
   "outputs": [
    {
     "name": "stdout",
     "output_type": "stream",
     "text": [
      "      A      B         C\n",
      "0  0.00  0.000  0.000000\n",
      "1  0.25  0.250  0.333333\n",
      "2  0.50  0.500  0.333333\n",
      "3  0.75  0.375  0.333333\n",
      "4  1.00  1.000  1.000000\n",
      "          A         B         C\n",
      "0  0.066667  0.149254  0.178571\n",
      "1  0.133333  0.179104  0.196429\n",
      "2  0.200000  0.208955  0.196429\n",
      "3  0.266667  0.194030  0.196429\n",
      "4  0.333333  0.268657  0.232143\n",
      "     A    B    C\n",
      "0 -2.0 -1.7 -1.2\n",
      "1 -1.0 -0.7 -0.2\n",
      "2  0.0  0.3 -0.2\n",
      "3  1.0 -0.2 -0.2\n",
      "4  2.0  2.3  1.8\n",
      "          A         B         C\n",
      "0 -1.414214 -1.281423 -1.224745\n",
      "1 -0.707107 -0.527645 -0.204124\n",
      "2  0.000000  0.226134 -0.204124\n",
      "3  0.707107 -0.150756 -0.204124\n",
      "4  1.414214  1.733690  1.837117\n",
      "      A    B     C\n",
      "0  1.00  5.0  10.0\n",
      "1  0.75  6.0  11.0\n",
      "2  0.50  7.0  11.0\n",
      "3  0.25  6.5  11.0\n",
      "4  0.00  9.0  13.0\n",
      "     A      B     C\n",
      "0  1.0  0.000  10.0\n",
      "1  2.0  0.250  11.0\n",
      "2  3.0  0.500  11.0\n",
      "3  4.0  0.375  11.0\n",
      "4  5.0  1.000  13.0\n",
      "     A    B     C\n",
      "0  1.0  5.0  10.0\n",
      "1  2.0  6.0  11.0\n",
      "2  3.0  7.0  11.0\n",
      "3  4.0  6.5  11.0\n",
      "4  5.0  9.0  13.0\n"
     ]
    }
   ],
   "source": [
    "from Data_processing.data_standardization import *\n",
    "\n",
    "print(min_max_standardization(data1)) #最小最大标准化\n",
    "print(normalization(data1)) #规范化\n",
    "print(center_standardization(data1)) #中心化\n",
    "print(z_score_standardization(data1)) #正态化\n",
    "print(positive_indicator_processing(data1,columns_to_convert=data1.columns[0:1])) #对第一个指标进行正向化\n",
    "print(negative_indicator_processing(data1,columns_to_convert=data1.columns[1:2])) #对第二个指标进行正向化\n",
    "print(data1)"
   ]
  },
  {
   "cell_type": "markdown",
   "metadata": {
    "pycharm": {
     "name": "#%% md\n"
    }
   },
   "source": [
    "## 实验 Comprehensive_analysis_model 代码"
   ]
  },
  {
   "cell_type": "code",
   "execution_count": 4,
   "metadata": {
    "pycharm": {
     "name": "#%%\n"
    }
   },
   "outputs": [
    {
     "name": "stdout",
     "output_type": "stream",
     "text": [
      "-------------熵权法计算结果-----------\n"
     ]
    },
    {
     "data": {
      "text/html": [
       "<div>\n",
       "<style scoped>\n",
       "    .dataframe tbody tr th:only-of-type {\n",
       "        vertical-align: middle;\n",
       "    }\n",
       "\n",
       "    .dataframe tbody tr th {\n",
       "        vertical-align: top;\n",
       "    }\n",
       "\n",
       "    .dataframe thead th {\n",
       "        text-align: right;\n",
       "    }\n",
       "</style>\n",
       "<table border=\"1\" class=\"dataframe\">\n",
       "  <thead>\n",
       "    <tr style=\"text-align: right;\">\n",
       "      <th></th>\n",
       "      <th>信息熵</th>\n",
       "      <th>信息信用值</th>\n",
       "      <th>权重(%)</th>\n",
       "    </tr>\n",
       "  </thead>\n",
       "  <tbody>\n",
       "    <tr>\n",
       "      <th>A</th>\n",
       "      <td>1.279854</td>\n",
       "      <td>-0.279854</td>\n",
       "      <td>24.578884</td>\n",
       "    </tr>\n",
       "    <tr>\n",
       "      <th>B</th>\n",
       "      <td>1.253046</td>\n",
       "      <td>-0.253046</td>\n",
       "      <td>22.224406</td>\n",
       "    </tr>\n",
       "    <tr>\n",
       "      <th>C</th>\n",
       "      <td>1.605696</td>\n",
       "      <td>-0.605696</td>\n",
       "      <td>53.196710</td>\n",
       "    </tr>\n",
       "  </tbody>\n",
       "</table>\n",
       "</div>"
      ],
      "text/plain": [
       "        信息熵     信息信用值      权重(%)\n",
       "A  1.279854 -0.279854  24.578884\n",
       "B  1.253046 -0.253046  22.224406\n",
       "C  1.605696 -0.605696  53.196710"
      ]
     },
     "metadata": {},
     "output_type": "display_data"
    },
    {
     "name": "stdout",
     "output_type": "stream",
     "text": [
      "是否导出熵权法权重计算结果? 是（Yes/Y/y）/否（No/N/n）是\n",
      "未选择保存路径,是否继续保存？ 是（Yes/Y/y）/否（No/N/n）\n",
      "是否继续保存? 是（Yes/Y/y）/否（No/N/n）是\n",
      "结果已保存到： C:/Users/liu'li/Desktop/熵权法权重计算结果.xlsx\n",
      "导出成功!\n",
      "\n",
      "-------------熵权法计算排名情况-----------\n"
     ]
    },
    {
     "data": {
      "text/html": [
       "<div>\n",
       "<style scoped>\n",
       "    .dataframe tbody tr th:only-of-type {\n",
       "        vertical-align: middle;\n",
       "    }\n",
       "\n",
       "    .dataframe tbody tr th {\n",
       "        vertical-align: top;\n",
       "    }\n",
       "\n",
       "    .dataframe thead th {\n",
       "        text-align: right;\n",
       "    }\n",
       "</style>\n",
       "<table border=\"1\" class=\"dataframe\">\n",
       "  <thead>\n",
       "    <tr style=\"text-align: right;\">\n",
       "      <th></th>\n",
       "      <th>信息熵</th>\n",
       "      <th>信息信用值</th>\n",
       "      <th>权重(%)</th>\n",
       "      <th>排名</th>\n",
       "    </tr>\n",
       "  </thead>\n",
       "  <tbody>\n",
       "    <tr>\n",
       "      <th>C</th>\n",
       "      <td>1.605696</td>\n",
       "      <td>-0.605696</td>\n",
       "      <td>53.196710</td>\n",
       "      <td>第1名</td>\n",
       "    </tr>\n",
       "    <tr>\n",
       "      <th>A</th>\n",
       "      <td>1.279854</td>\n",
       "      <td>-0.279854</td>\n",
       "      <td>24.578884</td>\n",
       "      <td>第2名</td>\n",
       "    </tr>\n",
       "    <tr>\n",
       "      <th>B</th>\n",
       "      <td>1.253046</td>\n",
       "      <td>-0.253046</td>\n",
       "      <td>22.224406</td>\n",
       "      <td>第3名</td>\n",
       "    </tr>\n",
       "  </tbody>\n",
       "</table>\n",
       "</div>"
      ],
      "text/plain": [
       "        信息熵     信息信用值      权重(%)   排名\n",
       "C  1.605696 -0.605696  53.196710  第1名\n",
       "A  1.279854 -0.279854  24.578884  第2名\n",
       "B  1.253046 -0.253046  22.224406  第3名"
      ]
     },
     "metadata": {},
     "output_type": "display_data"
    },
    {
     "name": "stdout",
     "output_type": "stream",
     "text": [
      "是否导出熵权法计算排名情况? 是（Yes/Y/y）/否（No/N/n）否\n"
     ]
    }
   ],
   "source": [
    "from Data_processing.Comprehensive_analysis_model import Ewm\n",
    "import numpy as np\n",
    "import pandas as pd\n",
    "Ewm(data1,data1.columns[0],data1.columns[1])"
   ]
  },
  {
   "cell_type": "code",
   "execution_count": null,
   "metadata": {
    "pycharm": {
     "name": "#%%\n"
    }
   },
   "outputs": [],
   "source": []
  }
 ],
 "metadata": {
  "kernelspec": {
   "display_name": "Python 3 (ipykernel)",
   "language": "python",
   "name": "python3"
  },
  "language_info": {
   "codemirror_mode": {
    "name": "ipython",
    "version": 3
   },
   "file_extension": ".py",
   "mimetype": "text/x-python",
   "name": "python",
   "nbconvert_exporter": "python",
   "pygments_lexer": "ipython3",
   "version": "3.9.13"
  }
 },
 "nbformat": 4,
 "nbformat_minor": 1
}